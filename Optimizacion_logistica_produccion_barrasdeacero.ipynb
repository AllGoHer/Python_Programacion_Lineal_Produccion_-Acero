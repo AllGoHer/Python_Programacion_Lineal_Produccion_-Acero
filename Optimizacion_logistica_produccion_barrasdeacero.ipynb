{
 "cells": [
  {
   "cell_type": "code",
   "execution_count": null,
   "id": "bc1632f6",
   "metadata": {},
   "outputs": [],
   "source": [
    "# Operacionalizando un Problema de Programación Lineal en Python\n",
    "# Comentarios sobre la sintaxis de Pyomo:\n",
    "# - 'Var' define las variables de decisión con sus límites.\n",
    "# - 'NonNegativeReals' asegura que las variables de decisión no sean negativas.\n",
    "# - 'Objective' establece la función objetivo, con 'sense=maximize' para maximización o 'sense=minimize' para minimizar\n",
    "# - 'Constraint' se usa para añadir restricciones al modelo."
   ]
  },
  {
   "cell_type": "code",
   "execution_count": null,
   "id": "fe1d7761",
   "metadata": {},
   "outputs": [],
   "source": [
    "# Importar Bibliotecas"
   ]
  },
  {
   "cell_type": "code",
   "execution_count": 42,
   "id": "700591d0",
   "metadata": {},
   "outputs": [],
   "source": [
    "from pyomo.environ import *"
   ]
  },
  {
   "cell_type": "code",
   "execution_count": null,
   "id": "c8a191a5",
   "metadata": {},
   "outputs": [],
   "source": [
    "# Creamos la instancia de un modelo Concreto\n",
    "# En el curso sólo utilizaremos modelos concretos, es decir en los que las variables toman número\n",
    "# El otro tipo de modelo son los abstractos, en los que las variables no toman números (x,y,z,i,j,k)"
   ]
  },
  {
   "cell_type": "code",
   "execution_count": 43,
   "id": "d9ceb68a",
   "metadata": {},
   "outputs": [],
   "source": [
    "modelo = ConcreteModel()"
   ]
  },
  {
   "cell_type": "code",
   "execution_count": null,
   "id": "7fabbf9e",
   "metadata": {},
   "outputs": [],
   "source": [
    "# Definamos las Variables de decisión\n",
    "# c: Número de camiones de perfiles tipo C producidos por día\n",
    "# h: Número de camiones de perfiles tipo H producidos por día"
   ]
  },
  {
   "cell_type": "code",
   "execution_count": 44,
   "id": "25f6a3b1",
   "metadata": {},
   "outputs": [],
   "source": [
    "modelo.c = Var(domain=NonNegativeReals)"
   ]
  },
  {
   "cell_type": "code",
   "execution_count": 45,
   "id": "63be409f",
   "metadata": {},
   "outputs": [],
   "source": [
    "modelo.h = Var(domain=NonNegativeReals)"
   ]
  },
  {
   "cell_type": "code",
   "execution_count": null,
   "id": "109db292",
   "metadata": {},
   "outputs": [],
   "source": [
    "# Función objetivo"
   ]
  },
  {
   "cell_type": "code",
   "execution_count": null,
   "id": "949a6a2f",
   "metadata": {},
   "outputs": [],
   "source": [
    "# Maximizar la contribución total: 950*c + 1200*h"
   ]
  },
  {
   "cell_type": "code",
   "execution_count": 46,
   "id": "d13e68ab",
   "metadata": {},
   "outputs": [],
   "source": [
    "modelo.contribucion_total = Objective(expr=950*modelo.c + 1200*modelo.h, sense=maximize)"
   ]
  },
  {
   "cell_type": "code",
   "execution_count": null,
   "id": "c096b620",
   "metadata": {},
   "outputs": [],
   "source": [
    "# Restricciones"
   ]
  },
  {
   "cell_type": "code",
   "execution_count": null,
   "id": "c22156dc",
   "metadata": {},
   "outputs": [],
   "source": [
    "# Capacidad de producción de la máquina: 1.4*c + 2.8*h <= 70 toneladas"
   ]
  },
  {
   "cell_type": "code",
   "execution_count": 47,
   "id": "a5d13113",
   "metadata": {},
   "outputs": [],
   "source": [
    "modelo.capacidad_produccion = Constraint(expr=1.4*modelo.c + 2.8*modelo.h <=70)"
   ]
  },
  {
   "cell_type": "code",
   "execution_count": null,
   "id": "814b8fdc",
   "metadata": {},
   "outputs": [],
   "source": [
    "# Capacidad del muelle de carga: c + h <= 30 camiones"
   ]
  },
  {
   "cell_type": "code",
   "execution_count": 48,
   "id": "ab931da5",
   "metadata": {},
   "outputs": [],
   "source": [
    "modelo.capacidad_carga = Constraint(expr=modelo.c + modelo.h <= 30)"
   ]
  },
  {
   "cell_type": "code",
   "execution_count": null,
   "id": "a3acee56",
   "metadata": {},
   "outputs": [],
   "source": [
    "# Disponibilidad del agente químico: 3*c + h <= 65 botes"
   ]
  },
  {
   "cell_type": "code",
   "execution_count": 49,
   "id": "0419d08d",
   "metadata": {},
   "outputs": [],
   "source": [
    "modelo.disponibilidad_quimico = Constraint(expr=3*modelo.c + modelo.h <=65)"
   ]
  },
  {
   "cell_type": "code",
   "execution_count": null,
   "id": "c0126ae0",
   "metadata": {},
   "outputs": [],
   "source": [
    "# Resolver el problema usando GLPK"
   ]
  },
  {
   "cell_type": "code",
   "execution_count": 50,
   "id": "8a8e918d",
   "metadata": {},
   "outputs": [
    {
     "data": {
      "text/plain": [
       "{'Problem': [{'Name': 'unknown', 'Lower bound': 33500.0, 'Upper bound': 33500.0, 'Number of objectives': 1, 'Number of constraints': 4, 'Number of variables': 3, 'Number of nonzeros': 7, 'Sense': 'maximize'}], 'Solver': [{'Status': 'ok', 'Termination condition': 'optimal', 'Statistics': {'Branch and bound': {'Number of bounded subproblems': 0, 'Number of created subproblems': 0}}, 'Error rc': 0, 'Time': 0.15996217727661133}], 'Solution': [OrderedDict([('number of solutions', 0), ('number of solutions displayed', 0)])]}"
      ]
     },
     "execution_count": 50,
     "metadata": {},
     "output_type": "execute_result"
    }
   ],
   "source": [
    "SolverFactory('glpk').solve(modelo)"
   ]
  },
  {
   "cell_type": "code",
   "execution_count": null,
   "id": "a5cfb473",
   "metadata": {},
   "outputs": [],
   "source": [
    "# Imprimimos soluciones"
   ]
  },
  {
   "cell_type": "code",
   "execution_count": 51,
   "id": "e1f2ff10",
   "metadata": {},
   "outputs": [
    {
     "data": {
      "text/plain": [
       "10.0"
      ]
     },
     "execution_count": 51,
     "metadata": {},
     "output_type": "execute_result"
    }
   ],
   "source": [
    "modelo.c()"
   ]
  },
  {
   "cell_type": "code",
   "execution_count": 52,
   "id": "9236ac0b",
   "metadata": {},
   "outputs": [
    {
     "data": {
      "text/plain": [
       "20.0"
      ]
     },
     "execution_count": 52,
     "metadata": {},
     "output_type": "execute_result"
    }
   ],
   "source": [
    "modelo.h()"
   ]
  },
  {
   "cell_type": "code",
   "execution_count": 53,
   "id": "4a330900",
   "metadata": {},
   "outputs": [
    {
     "data": {
      "text/plain": [
       "33500.0"
      ]
     },
     "execution_count": 53,
     "metadata": {},
     "output_type": "execute_result"
    }
   ],
   "source": [
    "modelo.contribucion_total()"
   ]
  },
  {
   "cell_type": "code",
   "execution_count": null,
   "id": "6e772b0f",
   "metadata": {},
   "outputs": [],
   "source": []
  }
 ],
 "metadata": {
  "kernelspec": {
   "display_name": "Python 3",
   "language": "python",
   "name": "python3"
  },
  "language_info": {
   "codemirror_mode": {
    "name": "ipython",
    "version": 3
   },
   "file_extension": ".py",
   "mimetype": "text/x-python",
   "name": "python",
   "nbconvert_exporter": "python",
   "pygments_lexer": "ipython3",
   "version": "3.8.8"
  }
 },
 "nbformat": 4,
 "nbformat_minor": 5
}
